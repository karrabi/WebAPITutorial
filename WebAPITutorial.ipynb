{
 "cells": [
  {
   "cell_type": "markdown",
   "id": "f6dba632",
   "metadata": {},
   "source": [
    "# WEB API Tutorial with Python"
   ]
  },
  {
   "cell_type": "markdown",
   "id": "6b47c333",
   "metadata": {},
   "source": [
    "## install Required packages"
   ]
  },
  {
   "cell_type": "code",
   "execution_count": null,
   "id": "548cc783",
   "metadata": {},
   "outputs": [],
   "source": [
    "# to install required packages in your system uncomment below line\n",
    "\n",
    "# !pip install requests"
   ]
  },
  {
   "cell_type": "code",
   "execution_count": null,
   "id": "4e15709f",
   "metadata": {},
   "outputs": [],
   "source": [
    "import requests\n",
    "import pandas as pd\n",
    "import json\n",
    "import time"
   ]
  },
  {
   "cell_type": "markdown",
   "id": "b65dc80c",
   "metadata": {},
   "source": [
    "requests is a HTML library that you can find more information about it from link below</br>\n",
    "https://pypi.org/project/requests/"
   ]
  },
  {
   "cell_type": "markdown",
   "id": "2ad938cb",
   "metadata": {},
   "source": [
    "you can Extract data from web with this library in following format:"
   ]
  },
  {
   "cell_type": "markdown",
   "id": "ac50947a",
   "metadata": {},
   "source": [
    "we want to use https://finnhub.io/ for extracting some data from it"
   ]
  },
  {
   "cell_type": "code",
   "execution_count": null,
   "id": "4e92007c",
   "metadata": {},
   "outputs": [],
   "source": [
    "API_Key = 'bpu4no7rh5red6hq49u0'"
   ]
  },
  {
   "cell_type": "code",
   "execution_count": null,
   "id": "b0ce57d9",
   "metadata": {},
   "outputs": [],
   "source": [
    "API_URL = 'https://finnhub.io/api/v1/crypto/symbol?exchange=binance&token={}'.format(API_Key)"
   ]
  },
  {
   "cell_type": "code",
   "execution_count": null,
   "id": "0674e6eb",
   "metadata": {},
   "outputs": [],
   "source": [
    "Full_URL = API_URL.format(API_Key)"
   ]
  },
  {
   "cell_type": "code",
   "execution_count": null,
   "id": "051bff99",
   "metadata": {},
   "outputs": [],
   "source": [
    "response = requests.get(API_URL)"
   ]
  },
  {
   "cell_type": "code",
   "execution_count": null,
   "id": "18da106b",
   "metadata": {},
   "outputs": [],
   "source": [
    "response"
   ]
  },
  {
   "cell_type": "code",
   "execution_count": null,
   "id": "15e652e3",
   "metadata": {},
   "outputs": [],
   "source": [
    "response.status_code"
   ]
  },
  {
   "cell_type": "code",
   "execution_count": null,
   "id": "25cca493",
   "metadata": {
    "scrolled": true
   },
   "outputs": [],
   "source": [
    "response.text"
   ]
  },
  {
   "cell_type": "code",
   "execution_count": null,
   "id": "ca39fd49",
   "metadata": {},
   "outputs": [],
   "source": [
    "type(response.text)"
   ]
  },
  {
   "cell_type": "code",
   "execution_count": null,
   "id": "e0b4ccd4",
   "metadata": {},
   "outputs": [],
   "source": [
    "data = json.loads(response.text)"
   ]
  },
  {
   "cell_type": "code",
   "execution_count": null,
   "id": "c134c12f",
   "metadata": {},
   "outputs": [],
   "source": [
    "type(data)"
   ]
  },
  {
   "cell_type": "code",
   "execution_count": null,
   "id": "c8301b15",
   "metadata": {},
   "outputs": [],
   "source": [
    "data"
   ]
  },
  {
   "cell_type": "code",
   "execution_count": null,
   "id": "d52388d9",
   "metadata": {},
   "outputs": [],
   "source": [
    "df = pd.DataFrame(data)"
   ]
  },
  {
   "cell_type": "code",
   "execution_count": null,
   "id": "fd5334b3",
   "metadata": {},
   "outputs": [],
   "source": [
    "type(df)"
   ]
  },
  {
   "cell_type": "code",
   "execution_count": null,
   "id": "634b7e06",
   "metadata": {},
   "outputs": [],
   "source": [
    "df"
   ]
  },
  {
   "cell_type": "code",
   "execution_count": null,
   "id": "bd025705",
   "metadata": {},
   "outputs": [],
   "source": [
    "for symbol in df.iterrows():\n",
    "    print(symbol)\n",
    "    break"
   ]
  },
  {
   "cell_type": "code",
   "execution_count": null,
   "id": "c18fa0dc",
   "metadata": {},
   "outputs": [],
   "source": [
    "for i, symbol in enumerate(df.iterrows()):\n",
    "    print(type(symbol))\n",
    "    print(type(symbol[1]))\n",
    "    break"
   ]
  },
  {
   "cell_type": "code",
   "execution_count": null,
   "id": "348a6e1a",
   "metadata": {},
   "outputs": [],
   "source": [
    "for i, symbol in enumerate(df.iterrows()):\n",
    "    print(symbol[1]['symbol'])\n",
    "    if i > 9:\n",
    "        break"
   ]
  },
  {
   "cell_type": "markdown",
   "id": "be8a2ae7",
   "metadata": {},
   "source": [
    "## Deep Dive"
   ]
  },
  {
   "cell_type": "markdown",
   "id": "88e39627",
   "metadata": {},
   "source": [
    "https://finnhub.io/api/v1/crypto/candle?symbol=BINANCE:BTCUSDT&resolution=D&from=1572651390&to=1575243390&token=bpu4no7rh5red6hq49u0"
   ]
  },
  {
   "cell_type": "code",
   "execution_count": null,
   "id": "3d05b895",
   "metadata": {},
   "outputs": [],
   "source": [
    "time.time()"
   ]
  },
  {
   "cell_type": "code",
   "execution_count": null,
   "id": "ba8c1b38",
   "metadata": {},
   "outputs": [],
   "source": [
    "int(time.time())"
   ]
  },
  {
   "cell_type": "code",
   "execution_count": null,
   "id": "ca3c4e8d",
   "metadata": {},
   "outputs": [],
   "source": [
    "to_time = int(time.time())\n",
    "from_time = to_time - 60"
   ]
  },
  {
   "cell_type": "code",
   "execution_count": null,
   "id": "f2fba82a",
   "metadata": {},
   "outputs": [],
   "source": [
    "URL = 'https://finnhub.io/api/v1/crypto/candle?symbol=BINANCE:BTCUSDT&resolution=D&from=1572651390&to=1575243390&token=bpu4no7rh5red6hq49u0'"
   ]
  },
  {
   "cell_type": "code",
   "execution_count": null,
   "id": "36db9354",
   "metadata": {},
   "outputs": [],
   "source": [
    "URL = 'https://finnhub.io/api/v1/crypto/candle?symbol={}&resolution=1&from={}&to={}&token={}'"
   ]
  },
  {
   "cell_type": "code",
   "execution_count": null,
   "id": "0cf8f84a",
   "metadata": {},
   "outputs": [],
   "source": [
    "for i, symbol in enumerate(df.iterrows()):\n",
    "    print(symbol[1]['symbol'])\n",
    "    break"
   ]
  },
  {
   "cell_type": "code",
   "execution_count": null,
   "id": "1baadcef",
   "metadata": {},
   "outputs": [],
   "source": [
    "for i, symbol in enumerate(df.iterrows()):\n",
    "    symbol_pair = symbol[1]['symbol']\n",
    "    Sub_URL = URL.format(symbol_pair, from_time, to_time, API_Key)\n",
    "    sub_response = requests.get(Sub_URL)\n",
    "    break"
   ]
  },
  {
   "cell_type": "code",
   "execution_count": null,
   "id": "f82f2f57",
   "metadata": {},
   "outputs": [],
   "source": [
    "sub_response"
   ]
  },
  {
   "cell_type": "code",
   "execution_count": null,
   "id": "ce9fd63b",
   "metadata": {},
   "outputs": [],
   "source": [
    "sub_response.text"
   ]
  },
  {
   "cell_type": "code",
   "execution_count": null,
   "id": "1a2b38a5",
   "metadata": {},
   "outputs": [],
   "source": [
    "for i, symbol in enumerate(df.iterrows()):\n",
    "    symbol_pair = symbol[1]['symbol']\n",
    "    Sub_URL = URL.format(symbol_pair, from_time, to_time, API_Key)\n",
    "    sub_response = requests.get(Sub_URL)\n",
    "    if sub_response.status_code == 200:\n",
    "        new_data = pd.DataFrame(json.loads(sub_response.text))\n",
    "        print(new_data)\n",
    "    if i > 10:\n",
    "        break"
   ]
  },
  {
   "cell_type": "code",
   "execution_count": null,
   "id": "9d16cf79",
   "metadata": {},
   "outputs": [],
   "source": [
    "for i, symbol in enumerate(df.iterrows()):\n",
    "    symbol_pair = symbol[1]['symbol']\n",
    "    Sub_URL = URL.format(symbol_pair, from_time, to_time, API_Key)\n",
    "    sub_response = requests.get(Sub_URL)\n",
    "    if sub_response.status_code == 200:\n",
    "        print(sub_response.text)\n",
    "#         new_data = pd.DataFrame(json.loads(sub_response.text))\n",
    "#         print(symbol_pair)\n",
    "#         print(new_data)\n",
    "#         print('--------')\n",
    "    if i > 10:\n",
    "        break"
   ]
  },
  {
   "cell_type": "code",
   "execution_count": null,
   "id": "5c221208",
   "metadata": {},
   "outputs": [],
   "source": [
    "for i, symbol in enumerate(df.iterrows()):\n",
    "    symbol_pair = symbol[1]['symbol']\n",
    "    Sub_URL = URL.format(symbol_pair, from_time, to_time, API_Key)\n",
    "    sub_response = requests.get(Sub_URL)\n",
    "    if sub_response.status_code == 200:\n",
    "        dic = json.loads(sub_response.text)\n",
    "        if dic['s'] == 'ok':\n",
    "            print(sub_response.text)\n",
    "#         new_data = pd.DataFrame(json.loads(sub_response.text))\n",
    "#         print(symbol_pair)\n",
    "#         print(new_data)\n",
    "#         print('--------')\n",
    "    if i > 10:\n",
    "        break"
   ]
  },
  {
   "cell_type": "code",
   "execution_count": null,
   "id": "1867ca5f",
   "metadata": {},
   "outputs": [],
   "source": [
    "for i, symbol in enumerate(df.iterrows()):\n",
    "    symbol_pair = symbol[1]['symbol']\n",
    "    Sub_URL = URL.format(symbol_pair, from_time, to_time, API_Key)\n",
    "    sub_response = requests.get(Sub_URL)\n",
    "    if sub_response.status_code == 200:\n",
    "        dic = json.loads(sub_response.text)\n",
    "        if dic['s'] == 'ok':\n",
    "#             print(sub_response.text)\n",
    "            new_data = pd.DataFrame(json.loads(sub_response.text))\n",
    "            print(symbol_pair)\n",
    "            print(new_data)\n",
    "            print('--------')\n",
    "    if i > 10:\n",
    "        break"
   ]
  },
  {
   "cell_type": "code",
   "execution_count": null,
   "id": "661121d2",
   "metadata": {},
   "outputs": [],
   "source": [
    "for i, symbol in enumerate(df.iterrows()):\n",
    "    symbol_pair = symbol[1]['symbol']\n",
    "    Sub_URL = URL.format(symbol_pair, from_time, to_time, API_Key)\n",
    "    sub_response = requests.get(Sub_URL)\n",
    "    if sub_response.status_code == 200:\n",
    "        dic = json.loads(sub_response.text)\n",
    "        if dic['s'] == 'ok':\n",
    "            new_data = pd.DataFrame(json.loads(sub_response.text))\n",
    "#             print(symbol_pair)\n",
    "#             print(new_data)\n",
    "            new_data['symbol'] = symbol_pair\n",
    "            new_data.drop('s', axis=1, inplace=True)\n",
    "            print(new_data)\n",
    "    if i > 10:\n",
    "        break"
   ]
  },
  {
   "cell_type": "code",
   "execution_count": null,
   "id": "4dd6f4c0",
   "metadata": {},
   "outputs": [],
   "source": [
    "result = pd.DataFrame()\n",
    "for i, symbol in enumerate(df.iterrows()):\n",
    "    symbol_pair = symbol[1]['symbol']\n",
    "    Sub_URL = URL.format(symbol_pair, from_time, to_time, API_Key)\n",
    "    sub_response = requests.get(Sub_URL)\n",
    "    if sub_response.status_code == 200:\n",
    "        dic = json.loads(sub_response.text)\n",
    "        if dic['s'] == 'ok':\n",
    "            new_data = pd.DataFrame(json.loads(sub_response.text))\n",
    "#             print(symbol_pair)\n",
    "#             print(new_data)\n",
    "            new_data['symbol'] = symbol_pair\n",
    "            new_data.drop('s', axis=1, inplace=True)\n",
    "#             print(new_data)\n",
    "                    \n",
    "            result = pd.concat([result, new_data], ignore_index=True) \n",
    "    if i > 10:\n",
    "        break"
   ]
  },
  {
   "cell_type": "code",
   "execution_count": null,
   "id": "57593509",
   "metadata": {},
   "outputs": [],
   "source": [
    "result"
   ]
  },
  {
   "cell_type": "code",
   "execution_count": null,
   "id": "e07f2474",
   "metadata": {},
   "outputs": [],
   "source": []
  }
 ],
 "metadata": {
  "kernelspec": {
   "display_name": "Python 3 (ipykernel)",
   "language": "python",
   "name": "python3"
  },
  "language_info": {
   "codemirror_mode": {
    "name": "ipython",
    "version": 3
   },
   "file_extension": ".py",
   "mimetype": "text/x-python",
   "name": "python",
   "nbconvert_exporter": "python",
   "pygments_lexer": "ipython3",
   "version": "3.11.2"
  }
 },
 "nbformat": 4,
 "nbformat_minor": 5
}
