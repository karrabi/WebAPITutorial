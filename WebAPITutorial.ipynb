{
 "cells": [
  {
   "cell_type": "markdown",
   "id": "f6dba632",
   "metadata": {},
   "source": [
    "# WEB API Tutorial with Python"
   ]
  },
  {
   "cell_type": "markdown",
   "id": "6b47c333",
   "metadata": {},
   "source": [
    "## install Required packages"
   ]
  },
  {
   "cell_type": "code",
   "execution_count": null,
   "id": "548cc783",
   "metadata": {},
   "outputs": [],
   "source": [
    "# to install required packages in your system uncomment below line\n",
    "\n",
    "# !pip install requests"
   ]
  },
  {
   "cell_type": "code",
   "execution_count": 1,
   "id": "4e15709f",
   "metadata": {},
   "outputs": [],
   "source": [
    "import requests\n",
    "import pandas as pd\n",
    "import json\n",
    "import time"
   ]
  },
  {
   "cell_type": "markdown",
   "id": "b65dc80c",
   "metadata": {},
   "source": [
    "requests is a HTML library that you can find more information about it from link below</br>\n",
    "https://pypi.org/project/requests/"
   ]
  },
  {
   "cell_type": "markdown",
   "id": "2ad938cb",
   "metadata": {},
   "source": [
    "you can Extract data from web with this library in following format:"
   ]
  },
  {
   "cell_type": "markdown",
   "id": "ac50947a",
   "metadata": {},
   "source": [
    "we want to use https://finnhub.io/ for extracting some data from it"
   ]
  },
  {
   "cell_type": "code",
   "execution_count": 2,
   "id": "4e92007c",
   "metadata": {},
   "outputs": [],
   "source": [
    "API_Key = 'bpu4no7rh5red6hq49u0'"
   ]
  },
  {
   "cell_type": "code",
   "execution_count": 3,
   "id": "b0ce57d9",
   "metadata": {},
   "outputs": [],
   "source": [
    "API_URL = 'https://finnhub.io/api/v1/crypto/symbol?exchange=binance&token={}'.format(API_Key)"
   ]
  },
  {
   "cell_type": "code",
   "execution_count": 4,
   "id": "0674e6eb",
   "metadata": {},
   "outputs": [],
   "source": [
    "Full_URL = API_URL.format(API_Key)"
   ]
  },
  {
   "cell_type": "code",
   "execution_count": 5,
   "id": "63743efa",
   "metadata": {},
   "outputs": [
    {
     "data": {
      "text/plain": [
       "'https://finnhub.io/api/v1/crypto/symbol?exchange=binance&token=bpu4no7rh5red6hq49u0'"
      ]
     },
     "execution_count": 5,
     "metadata": {},
     "output_type": "execute_result"
    }
   ],
   "source": [
    "Full_URL"
   ]
  },
  {
   "cell_type": "code",
   "execution_count": 6,
   "id": "051bff99",
   "metadata": {},
   "outputs": [],
   "source": [
    "response = requests.get(API_URL)"
   ]
  },
  {
   "cell_type": "code",
   "execution_count": 7,
   "id": "18da106b",
   "metadata": {},
   "outputs": [
    {
     "data": {
      "text/plain": [
       "<Response [200]>"
      ]
     },
     "execution_count": 7,
     "metadata": {},
     "output_type": "execute_result"
    }
   ],
   "source": [
    "response"
   ]
  },
  {
   "cell_type": "code",
   "execution_count": 8,
   "id": "15e652e3",
   "metadata": {},
   "outputs": [
    {
     "data": {
      "text/plain": [
       "200"
      ]
     },
     "execution_count": 8,
     "metadata": {},
     "output_type": "execute_result"
    }
   ],
   "source": [
    "response.status_code"
   ]
  },
  {
   "cell_type": "markdown",
   "id": "3207c87f",
   "metadata": {},
   "source": [
    "Status Code Description"
   ]
  },
  {
   "cell_type": "code",
   "execution_count": null,
   "id": "463afc2a",
   "metadata": {},
   "outputs": [],
   "source": [
    "200: Everything went okay, and the result has been returned (if any).\n",
    "301: The server is redirecting you to a different endpoint. This can happen when a company switches domain names, or an endpoint name is changed.\n",
    "400: The server thinks you made a bad request. This can happen when you don’t send along the right data, among other things.\n",
    "401: The server thinks you’re not authenticated. Many APIs require login ccredentials, so this happens when you don’t send the right credentials to access an API.\n",
    "403: The resource you’re trying to access is forbidden: you don’t have the right perlessons to see it.\n",
    "404: The resource you tried to access wasn’t found on the server.\n",
    "503: The server is not ready to handle the request."
   ]
  },
  {
   "cell_type": "code",
   "execution_count": null,
   "id": "25cca493",
   "metadata": {
    "scrolled": true
   },
   "outputs": [],
   "source": [
    "response.text"
   ]
  },
  {
   "cell_type": "code",
   "execution_count": 10,
   "id": "ca39fd49",
   "metadata": {},
   "outputs": [
    {
     "data": {
      "text/plain": [
       "str"
      ]
     },
     "execution_count": 10,
     "metadata": {},
     "output_type": "execute_result"
    }
   ],
   "source": [
    "type(response.text)"
   ]
  },
  {
   "cell_type": "code",
   "execution_count": 11,
   "id": "e0b4ccd4",
   "metadata": {},
   "outputs": [],
   "source": [
    "data = json.loads(response.text)"
   ]
  },
  {
   "cell_type": "code",
   "execution_count": 12,
   "id": "c134c12f",
   "metadata": {},
   "outputs": [
    {
     "data": {
      "text/plain": [
       "list"
      ]
     },
     "execution_count": 12,
     "metadata": {},
     "output_type": "execute_result"
    }
   ],
   "source": [
    "type(data)"
   ]
  },
  {
   "cell_type": "code",
   "execution_count": null,
   "id": "c8301b15",
   "metadata": {},
   "outputs": [],
   "source": [
    "data"
   ]
  },
  {
   "cell_type": "code",
   "execution_count": 14,
   "id": "d52388d9",
   "metadata": {},
   "outputs": [],
   "source": [
    "df = pd.DataFrame(data)"
   ]
  },
  {
   "cell_type": "code",
   "execution_count": 15,
   "id": "fd5334b3",
   "metadata": {},
   "outputs": [
    {
     "data": {
      "text/plain": [
       "pandas.core.frame.DataFrame"
      ]
     },
     "execution_count": 15,
     "metadata": {},
     "output_type": "execute_result"
    }
   ],
   "source": [
    "type(df)"
   ]
  },
  {
   "cell_type": "code",
   "execution_count": 16,
   "id": "634b7e06",
   "metadata": {},
   "outputs": [
    {
     "data": {
      "text/html": [
       "<div>\n",
       "<style scoped>\n",
       "    .dataframe tbody tr th:only-of-type {\n",
       "        vertical-align: middle;\n",
       "    }\n",
       "\n",
       "    .dataframe tbody tr th {\n",
       "        vertical-align: top;\n",
       "    }\n",
       "\n",
       "    .dataframe thead th {\n",
       "        text-align: right;\n",
       "    }\n",
       "</style>\n",
       "<table border=\"1\" class=\"dataframe\">\n",
       "  <thead>\n",
       "    <tr style=\"text-align: right;\">\n",
       "      <th></th>\n",
       "      <th>description</th>\n",
       "      <th>displaySymbol</th>\n",
       "      <th>symbol</th>\n",
       "    </tr>\n",
       "  </thead>\n",
       "  <tbody>\n",
       "    <tr>\n",
       "      <th>0</th>\n",
       "      <td>Binance ZRX/BTC</td>\n",
       "      <td>ZRX/BTC</td>\n",
       "      <td>BINANCE:ZRXBTC</td>\n",
       "    </tr>\n",
       "    <tr>\n",
       "      <th>1</th>\n",
       "      <td>Binance ENS/USDT</td>\n",
       "      <td>ENS/USDT</td>\n",
       "      <td>BINANCE:ENSUSDT</td>\n",
       "    </tr>\n",
       "    <tr>\n",
       "      <th>2</th>\n",
       "      <td>Binance PAX/USDT</td>\n",
       "      <td>PAX/USDT</td>\n",
       "      <td>BINANCE:PAXUSDT</td>\n",
       "    </tr>\n",
       "    <tr>\n",
       "      <th>3</th>\n",
       "      <td>Binance ATOM/USDT</td>\n",
       "      <td>ATOM/USDT</td>\n",
       "      <td>BINANCE:ATOMUSDT</td>\n",
       "    </tr>\n",
       "    <tr>\n",
       "      <th>4</th>\n",
       "      <td>Binance SHIB/TRY</td>\n",
       "      <td>SHIB/TRY</td>\n",
       "      <td>BINANCE:SHIBTRY</td>\n",
       "    </tr>\n",
       "    <tr>\n",
       "      <th>...</th>\n",
       "      <td>...</td>\n",
       "      <td>...</td>\n",
       "      <td>...</td>\n",
       "    </tr>\n",
       "    <tr>\n",
       "      <th>2175</th>\n",
       "      <td>Binance USDT/ZAR</td>\n",
       "      <td>USDT/ZAR</td>\n",
       "      <td>BINANCE:USDTZAR</td>\n",
       "    </tr>\n",
       "    <tr>\n",
       "      <th>2176</th>\n",
       "      <td>Binance NMR/BUSD</td>\n",
       "      <td>NMR/BUSD</td>\n",
       "      <td>BINANCE:NMRBUSD</td>\n",
       "    </tr>\n",
       "    <tr>\n",
       "      <th>2177</th>\n",
       "      <td>Binance PHX/BTC</td>\n",
       "      <td>PHX/BTC</td>\n",
       "      <td>BINANCE:PHXBTC</td>\n",
       "    </tr>\n",
       "    <tr>\n",
       "      <th>2178</th>\n",
       "      <td>Binance ONG/BNB</td>\n",
       "      <td>ONG/BNB</td>\n",
       "      <td>BINANCE:ONGBNB</td>\n",
       "    </tr>\n",
       "    <tr>\n",
       "      <th>2179</th>\n",
       "      <td>Binance KSM/BNB</td>\n",
       "      <td>KSM/BNB</td>\n",
       "      <td>BINANCE:KSMBNB</td>\n",
       "    </tr>\n",
       "  </tbody>\n",
       "</table>\n",
       "<p>2180 rows × 3 columns</p>\n",
       "</div>"
      ],
      "text/plain": [
       "            description displaySymbol            symbol\n",
       "0       Binance ZRX/BTC       ZRX/BTC    BINANCE:ZRXBTC\n",
       "1      Binance ENS/USDT      ENS/USDT   BINANCE:ENSUSDT\n",
       "2      Binance PAX/USDT      PAX/USDT   BINANCE:PAXUSDT\n",
       "3     Binance ATOM/USDT     ATOM/USDT  BINANCE:ATOMUSDT\n",
       "4      Binance SHIB/TRY      SHIB/TRY   BINANCE:SHIBTRY\n",
       "...                 ...           ...               ...\n",
       "2175   Binance USDT/ZAR      USDT/ZAR   BINANCE:USDTZAR\n",
       "2176   Binance NMR/BUSD      NMR/BUSD   BINANCE:NMRBUSD\n",
       "2177    Binance PHX/BTC       PHX/BTC    BINANCE:PHXBTC\n",
       "2178    Binance ONG/BNB       ONG/BNB    BINANCE:ONGBNB\n",
       "2179    Binance KSM/BNB       KSM/BNB    BINANCE:KSMBNB\n",
       "\n",
       "[2180 rows x 3 columns]"
      ]
     },
     "execution_count": 16,
     "metadata": {},
     "output_type": "execute_result"
    }
   ],
   "source": [
    "df"
   ]
  },
  {
   "cell_type": "code",
   "execution_count": 17,
   "id": "bd025705",
   "metadata": {},
   "outputs": [
    {
     "name": "stdout",
     "output_type": "stream",
     "text": [
      "(0, description      Binance ZRX/BTC\n",
      "displaySymbol            ZRX/BTC\n",
      "symbol            BINANCE:ZRXBTC\n",
      "Name: 0, dtype: object)\n"
     ]
    }
   ],
   "source": [
    "for symbol in df.iterrows():\n",
    "    print(symbol)\n",
    "    break"
   ]
  },
  {
   "cell_type": "code",
   "execution_count": null,
   "id": "c18fa0dc",
   "metadata": {},
   "outputs": [],
   "source": [
    "for i, symbol in enumerate(df.iterrows()):\n",
    "    print(type(symbol))\n",
    "    print(type(symbol[1]))\n",
    "    break"
   ]
  },
  {
   "cell_type": "code",
   "execution_count": null,
   "id": "348a6e1a",
   "metadata": {},
   "outputs": [],
   "source": [
    "for i, symbol in enumerate(df.iterrows()):\n",
    "    print(symbol[1]['symbol'])\n",
    "    if i > 9:\n",
    "        break"
   ]
  },
  {
   "cell_type": "markdown",
   "id": "be8a2ae7",
   "metadata": {},
   "source": [
    "## Deep Dive"
   ]
  },
  {
   "cell_type": "markdown",
   "id": "88e39627",
   "metadata": {},
   "source": [
    "https://finnhub.io/api/v1/crypto/candle?symbol=BINANCE:BTCUSDT&resolution=D&from=1572651390&to=1575243390&token=bpu4no7rh5red6hq49u0"
   ]
  },
  {
   "cell_type": "code",
   "execution_count": null,
   "id": "3d05b895",
   "metadata": {},
   "outputs": [],
   "source": [
    "time.time()"
   ]
  },
  {
   "cell_type": "code",
   "execution_count": null,
   "id": "ba8c1b38",
   "metadata": {},
   "outputs": [],
   "source": [
    "int(time.time())"
   ]
  },
  {
   "cell_type": "code",
   "execution_count": null,
   "id": "ca3c4e8d",
   "metadata": {},
   "outputs": [],
   "source": [
    "to_time = int(time.time())\n",
    "from_time = to_time - 60"
   ]
  },
  {
   "cell_type": "code",
   "execution_count": null,
   "id": "f2fba82a",
   "metadata": {},
   "outputs": [],
   "source": [
    "URL = 'https://finnhub.io/api/v1/crypto/candle?symbol=BINANCE:BTCUSDT&resolution=D&from=1572651390&to=1575243390&token=bpu4no7rh5red6hq49u0'"
   ]
  },
  {
   "cell_type": "code",
   "execution_count": null,
   "id": "36db9354",
   "metadata": {},
   "outputs": [],
   "source": [
    "URL = 'https://finnhub.io/api/v1/crypto/candle?symbol={}&resolution=1&from={}&to={}&token={}'"
   ]
  },
  {
   "cell_type": "code",
   "execution_count": null,
   "id": "0cf8f84a",
   "metadata": {},
   "outputs": [],
   "source": [
    "for i, symbol in enumerate(df.iterrows()):\n",
    "    print(symbol[1]['symbol'])\n",
    "    break"
   ]
  },
  {
   "cell_type": "code",
   "execution_count": null,
   "id": "1baadcef",
   "metadata": {},
   "outputs": [],
   "source": [
    "for i, symbol in enumerate(df.iterrows()):\n",
    "    symbol_pair = symbol[1]['symbol']\n",
    "    Sub_URL = URL.format(symbol_pair, from_time, to_time, API_Key)\n",
    "    sub_response = requests.get(Sub_URL)\n",
    "    break"
   ]
  },
  {
   "cell_type": "code",
   "execution_count": null,
   "id": "f82f2f57",
   "metadata": {},
   "outputs": [],
   "source": [
    "sub_response"
   ]
  },
  {
   "cell_type": "code",
   "execution_count": null,
   "id": "ce9fd63b",
   "metadata": {},
   "outputs": [],
   "source": [
    "sub_response.text"
   ]
  },
  {
   "cell_type": "code",
   "execution_count": null,
   "id": "1a2b38a5",
   "metadata": {},
   "outputs": [],
   "source": [
    "for i, symbol in enumerate(df.iterrows()):\n",
    "    symbol_pair = symbol[1]['symbol']\n",
    "    Sub_URL = URL.format(symbol_pair, from_time, to_time, API_Key)\n",
    "    sub_response = requests.get(Sub_URL)\n",
    "    if sub_response.status_code == 200:\n",
    "        new_data = pd.DataFrame(json.loads(sub_response.text))\n",
    "        print(new_data)\n",
    "    if i > 10:\n",
    "        break"
   ]
  },
  {
   "cell_type": "code",
   "execution_count": null,
   "id": "9d16cf79",
   "metadata": {},
   "outputs": [],
   "source": [
    "for i, symbol in enumerate(df.iterrows()):\n",
    "    symbol_pair = symbol[1]['symbol']\n",
    "    Sub_URL = URL.format(symbol_pair, from_time, to_time, API_Key)\n",
    "    sub_response = requests.get(Sub_URL)\n",
    "    if sub_response.status_code == 200:\n",
    "        print(sub_response.text)\n",
    "#         new_data = pd.DataFrame(json.loads(sub_response.text))\n",
    "#         print(symbol_pair)\n",
    "#         print(new_data)\n",
    "#         print('--------')\n",
    "    if i > 10:\n",
    "        break"
   ]
  },
  {
   "cell_type": "code",
   "execution_count": null,
   "id": "5c221208",
   "metadata": {},
   "outputs": [],
   "source": [
    "for i, symbol in enumerate(df.iterrows()):\n",
    "    symbol_pair = symbol[1]['symbol']\n",
    "    Sub_URL = URL.format(symbol_pair, from_time, to_time, API_Key)\n",
    "    sub_response = requests.get(Sub_URL)\n",
    "    if sub_response.status_code == 200:\n",
    "        dic = json.loads(sub_response.text)\n",
    "        if dic['s'] == 'ok':\n",
    "            print(sub_response.text)\n",
    "#         new_data = pd.DataFrame(json.loads(sub_response.text))\n",
    "#         print(symbol_pair)\n",
    "#         print(new_data)\n",
    "#         print('--------')\n",
    "    if i > 10:\n",
    "        break"
   ]
  },
  {
   "cell_type": "code",
   "execution_count": null,
   "id": "1867ca5f",
   "metadata": {},
   "outputs": [],
   "source": [
    "for i, symbol in enumerate(df.iterrows()):\n",
    "    symbol_pair = symbol[1]['symbol']\n",
    "    Sub_URL = URL.format(symbol_pair, from_time, to_time, API_Key)\n",
    "    sub_response = requests.get(Sub_URL)\n",
    "    if sub_response.status_code == 200:\n",
    "        dic = json.loads(sub_response.text)\n",
    "        if dic['s'] == 'ok':\n",
    "#             print(sub_response.text)\n",
    "            new_data = pd.DataFrame(json.loads(sub_response.text))\n",
    "            print(symbol_pair)\n",
    "            print(new_data)\n",
    "            print('--------')\n",
    "    if i > 10:\n",
    "        break"
   ]
  },
  {
   "cell_type": "code",
   "execution_count": null,
   "id": "661121d2",
   "metadata": {},
   "outputs": [],
   "source": [
    "for i, symbol in enumerate(df.iterrows()):\n",
    "    symbol_pair = symbol[1]['symbol']\n",
    "    Sub_URL = URL.format(symbol_pair, from_time, to_time, API_Key)\n",
    "    sub_response = requests.get(Sub_URL)\n",
    "    if sub_response.status_code == 200:\n",
    "        dic = json.loads(sub_response.text)\n",
    "        if dic['s'] == 'ok':\n",
    "            new_data = pd.DataFrame(json.loads(sub_response.text))\n",
    "#             print(symbol_pair)\n",
    "#             print(new_data)\n",
    "            new_data['symbol'] = symbol_pair\n",
    "            new_data.drop('s', axis=1, inplace=True)\n",
    "            print(new_data)\n",
    "    if i > 10:\n",
    "        break"
   ]
  },
  {
   "cell_type": "code",
   "execution_count": null,
   "id": "4dd6f4c0",
   "metadata": {},
   "outputs": [],
   "source": [
    "result = pd.DataFrame()\n",
    "for i, symbol in enumerate(df.iterrows()):\n",
    "    symbol_pair = symbol[1]['symbol']\n",
    "    Sub_URL = URL.format(symbol_pair, from_time, to_time, API_Key)\n",
    "    sub_response = requests.get(Sub_URL)\n",
    "    if sub_response.status_code == 200:\n",
    "        dic = json.loads(sub_response.text)\n",
    "        if dic['s'] == 'ok':\n",
    "            new_data = pd.DataFrame(json.loads(sub_response.text))\n",
    "#             print(symbol_pair)\n",
    "#             print(new_data)\n",
    "            new_data['symbol'] = symbol_pair\n",
    "            new_data.drop('s', axis=1, inplace=True)\n",
    "#             print(new_data)\n",
    "                    \n",
    "            result = pd.concat([result, new_data], ignore_index=True) \n",
    "    if i > 10:\n",
    "        break"
   ]
  },
  {
   "cell_type": "code",
   "execution_count": null,
   "id": "57593509",
   "metadata": {},
   "outputs": [],
   "source": [
    "result"
   ]
  },
  {
   "cell_type": "code",
   "execution_count": null,
   "id": "e07f2474",
   "metadata": {},
   "outputs": [],
   "source": []
  }
 ],
 "metadata": {
  "kernelspec": {
   "display_name": "Python 3 (ipykernel)",
   "language": "python",
   "name": "python3"
  },
  "language_info": {
   "codemirror_mode": {
    "name": "ipython",
    "version": 3
   },
   "file_extension": ".py",
   "mimetype": "text/x-python",
   "name": "python",
   "nbconvert_exporter": "python",
   "pygments_lexer": "ipython3",
   "version": "3.11.2"
  }
 },
 "nbformat": 4,
 "nbformat_minor": 5
}
